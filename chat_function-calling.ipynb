{
 "cells": [
  {
   "cell_type": "markdown",
   "id": "b10199c8-e3c0-43bf-9457-c76e01034ce6",
   "metadata": {},
   "source": [
    "Copyright 2024 Google, LLC. This software is provided as-is,\n",
    "without warranty or representation for any use or purpose. Your\n",
    "use of it is subject to your agreement with Google.\n",
    "\n",
    "Licensed under the Apache License, Version 2.0 (the \"License\");\n",
    "you may not use this file except in compliance with the License.\n",
    "You may obtain a copy of the License at\n",
    "\n",
    "   http://www.apache.org/licenses/LICENSE-2.0\n",
    "\n",
    "Unless required by applicable law or agreed to in writing, software\n",
    "distributed under the License is distributed on an \"AS IS\" BASIS,\n",
    "WITHOUT WARRANTIES OR CONDITIONS OF ANY KIND, either express or implied.\n",
    "See the License for the specific language governing permissions and\n",
    "limitations under the License."
   ]
  },
  {
   "cell_type": "markdown",
   "id": "19cf3fcb-9e41-4105-b89f-64a573b3ffb3",
   "metadata": {},
   "source": [
    "# How to use Function Calling with Gemini"
   ]
  },
  {
   "cell_type": "markdown",
   "id": "36bf06d4-3269-4327-9910-d42011859b1a",
   "metadata": {},
   "source": [
    "This notebook outlines how to interact with Vertex AI's Gemini models to call external API's using Function Calling. More info can be found at https://cloud.google.com/vertex-ai/generative-ai/docs/multimodal/function-calling"
   ]
  },
  {
   "cell_type": "markdown",
   "id": "e67b923f-f712-48ec-a3b6-a3d2a305884f",
   "metadata": {},
   "source": [
    "## Prepare the python development environment"
   ]
  },
  {
   "cell_type": "markdown",
   "id": "bcedf7c6-18a7-4294-b8a8-11555a1bde48",
   "metadata": {},
   "source": [
    "First, let's identify any project specific variables to customize this notebook to your GCP environment. Change YOUR_PROJECT_ID with your own GCP project ID."
   ]
  },
  {
   "cell_type": "code",
   "execution_count": null,
   "id": "93a33169-d938-4185-8a08-d48cbee56958",
   "metadata": {
    "tags": []
   },
   "outputs": [],
   "source": [
    "project_id = \"YOUR_PROJECT_ID\"\n",
    "location = \"global\"\n",
    "region = \"us-central1\""
   ]
  },
  {
   "cell_type": "markdown",
   "id": "7bae61b6-9b4a-4949-987d-8f5129220759",
   "metadata": {},
   "source": [
    "Install any needed python modules from our requirements.txt file. Most Vertex Workbench environments include all the packages we'll be using, but if you are using an external Jupyter Notebook or require any additional packages for your own needs, you can simply add them to the included requirements.txt file an run the folloiwng commands."
   ]
  },
  {
   "cell_type": "code",
   "execution_count": null,
   "id": "aa73c882-f0bb-445a-914e-6702189b8e38",
   "metadata": {
    "tags": []
   },
   "outputs": [],
   "source": [
    "#pip install -r requirements.txt"
   ]
  },
  {
   "cell_type": "markdown",
   "id": "fb7d728c-a4a8-4ea7-af59-559c09318512",
   "metadata": {},
   "source": [
    "Now we will import all required modules. For our purpose, we will be utilizing the following:\n",
    "\n",
    "- requests - This module will allow us to interact directly with external REST API's. \n",
    "- FunctionDeclaration - Used to define the function to be called by the model"
   ]
  },
  {
   "cell_type": "code",
   "execution_count": null,
   "id": "55800605-c9b1-40c9-8c12-fb17de2876a1",
   "metadata": {
    "tags": []
   },
   "outputs": [],
   "source": [
    "import vertexai\n",
    "from vertexai.generative_models import GenerativeModel, GenerationConfig, Part, Tool, ChatSession, FunctionDeclaration\n",
    "import vertexai.preview.generative_models as generative_models\n",
    "from vertexai.preview.generative_models import grounding\n",
    "import requests"
   ]
  },
  {
   "cell_type": "markdown",
   "id": "895260a3-8502-4192-9d20-0ba60c0c4cb8",
   "metadata": {},
   "source": [
    "## Define the Gemini Function"
   ]
  },
  {
   "cell_type": "markdown",
   "id": "2aecf071-66f4-469e-be8a-405ba77a5f3b",
   "metadata": {},
   "source": [
    "Next we will define a function to be called by the gemini model. This function will be used to determine the current time based on a specified location provided by the user."
   ]
  },
  {
   "cell_type": "code",
   "execution_count": null,
   "id": "b67e706b-b025-476b-8af7-9592cdcfb097",
   "metadata": {
    "tags": []
   },
   "outputs": [],
   "source": [
    "get_time_func = FunctionDeclaration(\n",
    "    name=\"get_time_func\",\n",
    "    description=\"Get the current time in a given location. Include the area and location, for example 'America/New_York', 'Asia/Dubai' and 'Africa/Cairo'\",\n",
    "    parameters={\n",
    "        \"type\": \"object\",\n",
    "        \"properties\": {\"location\": {\"type\": \"string\", \"description\": \"Location\"}},\n",
    "    },\n",
    ")\n",
    "\n",
    "time_tool = Tool(\n",
    "    function_declarations=[get_time_func],\n",
    ")"
   ]
  },
  {
   "cell_type": "markdown",
   "id": "127a3bd5-fc35-41b0-8884-d0331d4bef5e",
   "metadata": {},
   "source": [
    "Initialize the mode, specifying the \"time_tool\" variable linked to the get_time_func function"
   ]
  },
  {
   "cell_type": "code",
   "execution_count": null,
   "id": "2e18c7a8-c4e8-4002-bf95-36def8fb580f",
   "metadata": {
    "tags": []
   },
   "outputs": [],
   "source": [
    "model = GenerativeModel(\n",
    "    \"gemini-1.5-pro-001\",\n",
    "    generation_config=GenerationConfig(temperature=0),\n",
    "    tools=[time_tool],\n",
    ")\n",
    "chat = model.start_chat()"
   ]
  },
  {
   "cell_type": "markdown",
   "id": "75f14cac-1180-4acc-abde-161cc3a0e4b2",
   "metadata": {},
   "source": [
    "## Submit a prompt, call the function and return the response"
   ]
  },
  {
   "cell_type": "markdown",
   "id": "55ad83dc-d496-4de3-87e8-b553dd60d6bd",
   "metadata": {},
   "source": [
    "In this example, we're using the external worldtimeapi.org api to find the current time in a specific timezone based on a specified area. The supported areas can be listed using running the following command "
   ]
  },
  {
   "cell_type": "code",
   "execution_count": null,
   "id": "d04422a0-cb6b-464a-8650-7a610a78c703",
   "metadata": {
    "tags": []
   },
   "outputs": [],
   "source": [
    "response = requests.get('http://worldtimeapi.org/api/timezone')\n",
    "supported_areas = response.json()\n",
    "\n",
    "for area in supported_areas:\n",
    "    print(area)"
   ]
  },
  {
   "cell_type": "markdown",
   "id": "14e77226-83d5-4086-a1c1-d551e888158f",
   "metadata": {},
   "source": [
    "Define a request to get the current time in Chicago"
   ]
  },
  {
   "cell_type": "code",
   "execution_count": null,
   "id": "437251ea-efeb-4cb9-b586-daf621668724",
   "metadata": {
    "tags": []
   },
   "outputs": [],
   "source": [
    "prompt = \"What time is it in Chicago?\""
   ]
  },
  {
   "cell_type": "markdown",
   "id": "a04af84f-762b-4e03-a77c-fd91b8548350",
   "metadata": {},
   "source": [
    "Submit the prompt and print the response"
   ]
  },
  {
   "cell_type": "code",
   "execution_count": null,
   "id": "9084a3c9-f343-4a8c-a184-12d320fd01f1",
   "metadata": {
    "tags": []
   },
   "outputs": [],
   "source": [
    "response = chat.send_message(prompt)\n",
    "\n",
    "#--- Uncomment to see the full response structure\n",
    "print(response.candidates[0].content.parts[0])\n",
    "\n",
    "#-- If the response includes the \"function_call\" attribute, capture the function name, call the external API, and return the response.\n",
    "if response.candidates[0].content.parts[0].function_call:\n",
    "    function_name = response.candidates[0].content.parts[0].function_call.name\n",
    "    \n",
    "    params = {}\n",
    "    for key, value in response.candidates[0].content.parts[0].function_call.args.items():\n",
    "        params[key] = value\n",
    "    params\n",
    "    \n",
    "    #url = f\"https://worldtimeapi.org/api/timezone/america/{params['location']}\"\n",
    "    url = f\"https://worldtimeapi.org/api/timezone/{params['location']}\"\n",
    "    \n",
    "    api_response = requests.get(url, params=params)\n",
    "    api_response.text\n",
    "    \n",
    "    response = chat.send_message(\n",
    "        Part.from_function_response(\n",
    "            name=\"get_time_func\",\n",
    "            response={\n",
    "                \"content\": api_response.text,\n",
    "            },\n",
    "        ),\n",
    "    )\n"
   ]
  },
  {
   "cell_type": "code",
   "execution_count": null,
   "id": "25d9e0bb-96af-4419-b8c9-64732def1392",
   "metadata": {
    "tags": []
   },
   "outputs": [],
   "source": [
    "#--- Print the text section of the response which includes the current time.\n",
    "print(response.text)"
   ]
  },
  {
   "cell_type": "code",
   "execution_count": null,
   "id": "572cd555-3cb1-4e99-b722-fd92fb262734",
   "metadata": {},
   "outputs": [],
   "source": []
  }
 ],
 "metadata": {
  "environment": {
   "kernel": "python3",
   "name": "common-cpu.m113",
   "type": "gcloud",
   "uri": "gcr.io/deeplearning-platform-release/base-cpu:m113"
  },
  "kernelspec": {
   "display_name": "Python 3",
   "language": "python",
   "name": "python3"
  },
  "language_info": {
   "codemirror_mode": {
    "name": "ipython",
    "version": 3
   },
   "file_extension": ".py",
   "mimetype": "text/x-python",
   "name": "python",
   "nbconvert_exporter": "python",
   "pygments_lexer": "ipython3",
   "version": "3.10.13"
  }
 },
 "nbformat": 4,
 "nbformat_minor": 5
}
