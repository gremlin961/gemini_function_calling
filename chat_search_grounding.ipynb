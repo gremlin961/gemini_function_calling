{
 "cells": [
  {
   "cell_type": "markdown",
   "id": "b10199c8-e3c0-43bf-9457-c76e01034ce6",
   "metadata": {},
   "source": [
    "Copyright 2024 Google, LLC. This software is provided as-is,\n",
    "without warranty or representation for any use or purpose. Your\n",
    "use of it is subject to your agreement with Google.\n",
    "\n",
    "Licensed under the Apache License, Version 2.0 (the \"License\");\n",
    "you may not use this file except in compliance with the License.\n",
    "You may obtain a copy of the License at\n",
    "\n",
    "   http://www.apache.org/licenses/LICENSE-2.0\n",
    "\n",
    "Unless required by applicable law or agreed to in writing, software\n",
    "distributed under the License is distributed on an \"AS IS\" BASIS,\n",
    "WITHOUT WARRANTIES OR CONDITIONS OF ANY KIND, either express or implied.\n",
    "See the License for the specific language governing permissions and\n",
    "limitations under the License."
   ]
  },
  {
   "cell_type": "markdown",
   "id": "19cf3fcb-9e41-4105-b89f-64a573b3ffb3",
   "metadata": {},
   "source": [
    "# How to use Google Search Groundingwith Gemini"
   ]
  },
  {
   "cell_type": "markdown",
   "id": "36bf06d4-3269-4327-9910-d42011859b1a",
   "metadata": {},
   "source": [
    "This notebook outlines how to interact with Vertex AI's Gemini models to ground results based on Google Search. More info can be found at https://cloud.google.com/vertex-ai/generative-ai/docs/multimodal/ground-gemini#web-ground-gemini"
   ]
  },
  {
   "cell_type": "markdown",
   "id": "e67b923f-f712-48ec-a3b6-a3d2a305884f",
   "metadata": {},
   "source": [
    "## Prepare the python development environment"
   ]
  },
  {
   "cell_type": "markdown",
   "id": "bcedf7c6-18a7-4294-b8a8-11555a1bde48",
   "metadata": {},
   "source": [
    "First, let's identify any project specific variables to customize this notebook to your GCP environment. Change YOUR_PROJECT_ID with your own GCP project ID."
   ]
  },
  {
   "cell_type": "code",
   "execution_count": 12,
   "id": "93a33169-d938-4185-8a08-d48cbee56958",
   "metadata": {
    "tags": []
   },
   "outputs": [],
   "source": [
    "project_id = \"YOUR_PROJECT_ID\"\n",
    "location = \"global\"\n",
    "region = \"us-central1\""
   ]
  },
  {
   "cell_type": "markdown",
   "id": "7bae61b6-9b4a-4949-987d-8f5129220759",
   "metadata": {},
   "source": [
    "Install any needed python modules from our requirements.txt file. Most Vertex Workbench environments include all the packages we'll be using, but if you are using an external Jupyter Notebook or require any additional packages for your own needs, you can simply add them to the included requirements.txt file an run the folloiwng commands."
   ]
  },
  {
   "cell_type": "code",
   "execution_count": 13,
   "id": "aa73c882-f0bb-445a-914e-6702189b8e38",
   "metadata": {
    "tags": []
   },
   "outputs": [],
   "source": [
    "#pip install -r requirements.txt"
   ]
  },
  {
   "cell_type": "markdown",
   "id": "fb7d728c-a4a8-4ea7-af59-559c09318512",
   "metadata": {},
   "source": [
    "Now we will import all required modules. For our purpose, we will be utilizing the following:\n",
    "\n",
    "- requests - This module will allow us to interact directly with external REST API's. \n",
    "- FunctionDeclaration - Used to define the function to be called by the model"
   ]
  },
  {
   "cell_type": "code",
   "execution_count": 14,
   "id": "55800605-c9b1-40c9-8c12-fb17de2876a1",
   "metadata": {
    "tags": []
   },
   "outputs": [],
   "source": [
    "import vertexai\n",
    "from vertexai.generative_models import GenerativeModel, GenerationConfig, Part, Tool, ChatSession, FunctionDeclaration\n",
    "import vertexai.preview.generative_models as generative_models\n",
    "from vertexai.preview.generative_models import grounding\n",
    "import requests"
   ]
  },
  {
   "cell_type": "markdown",
   "id": "895260a3-8502-4192-9d20-0ba60c0c4cb8",
   "metadata": {},
   "source": [
    "## Test the response without grounding"
   ]
  },
  {
   "cell_type": "markdown",
   "id": "2aecf071-66f4-469e-be8a-405ba77a5f3b",
   "metadata": {},
   "source": [
    "We will start by configuring our search variables and define the grounding tool. "
   ]
  },
  {
   "cell_type": "markdown",
   "id": "11b59a77-48e6-4f2c-906a-5fb724be7cae",
   "metadata": {},
   "source": [
    "Define a tool to attach the functions to Gemini"
   ]
  },
  {
   "cell_type": "code",
   "execution_count": 15,
   "id": "19999743-9576-49c0-8b0b-67f56d433948",
   "metadata": {
    "tags": []
   },
   "outputs": [],
   "source": [
    "search_tool = Tool.from_google_search_retrieval(grounding.GoogleSearchRetrieval())"
   ]
  },
  {
   "cell_type": "markdown",
   "id": "127a3bd5-fc35-41b0-8884-d0331d4bef5e",
   "metadata": {},
   "source": [
    "Initialize the model, first by NOT specifying the search grouding tool and simply using the foundational model."
   ]
  },
  {
   "cell_type": "code",
   "execution_count": 16,
   "id": "2e18c7a8-c4e8-4002-bf95-36def8fb580f",
   "metadata": {
    "tags": []
   },
   "outputs": [],
   "source": [
    "model = GenerativeModel(\n",
    "    \"gemini-1.5-pro-001\",\n",
    "    generation_config=GenerationConfig(temperature=0),\n",
    ")\n",
    "chat = model.start_chat()"
   ]
  },
  {
   "cell_type": "markdown",
   "id": "75f14cac-1180-4acc-abde-161cc3a0e4b2",
   "metadata": {},
   "source": [
    "## Submit a prompt, call the function and return the response"
   ]
  },
  {
   "cell_type": "markdown",
   "id": "55ad83dc-d496-4de3-87e8-b553dd60d6bd",
   "metadata": {},
   "source": [
    "In this example, we're using the external worldtimeapi.org api to find the current time in a specific timezone based on a specified area. The supported areas can be listed using running the following command "
   ]
  },
  {
   "cell_type": "markdown",
   "id": "14e77226-83d5-4086-a1c1-d551e888158f",
   "metadata": {},
   "source": [
    "Define a request to get the current time in Chicago"
   ]
  },
  {
   "cell_type": "code",
   "execution_count": 17,
   "id": "437251ea-efeb-4cb9-b586-daf621668724",
   "metadata": {
    "tags": []
   },
   "outputs": [],
   "source": [
    "prompt = \"Provide a detailed description of S&S item number 330-0016 \""
   ]
  },
  {
   "cell_type": "markdown",
   "id": "a04af84f-762b-4e03-a77c-fd91b8548350",
   "metadata": {},
   "source": [
    "Submit the prompt and print the response"
   ]
  },
  {
   "cell_type": "code",
   "execution_count": 18,
   "id": "9084a3c9-f343-4a8c-a184-12d320fd01f1",
   "metadata": {
    "tags": []
   },
   "outputs": [],
   "source": [
    "response = chat.send_message(prompt)"
   ]
  },
  {
   "cell_type": "markdown",
   "id": "581c9cac-bd5f-4d2a-a0a0-1d72c5586569",
   "metadata": {},
   "source": [
    "Print the response and verify the model is not able to provide much detail without any grounding."
   ]
  },
  {
   "cell_type": "code",
   "execution_count": 19,
   "id": "25d9e0bb-96af-4419-b8c9-64732def1392",
   "metadata": {
    "tags": []
   },
   "outputs": [
    {
     "name": "stdout",
     "output_type": "stream",
     "text": [
      "Please provide me with more context about the item number 330-0016. I need to know what company or product line it belongs to in order to give you a detailed description. \n",
      "\n",
      "For example, is it:\n",
      "\n",
      "* A part number for a specific manufacturer?\n",
      "* An item number from a catalog?\n",
      "* A product code from an online store?\n",
      "\n",
      "Once you tell me more about where this item number comes from, I can help you find the information you need. \n",
      "\n"
     ]
    }
   ],
   "source": [
    "print(response.text)"
   ]
  },
  {
   "cell_type": "markdown",
   "id": "411bbe02-0c93-4e83-a514-77106f7483dd",
   "metadata": {},
   "source": [
    "## Test the response with grounding"
   ]
  },
  {
   "cell_type": "markdown",
   "id": "b3bf964c-4ed0-4309-9e48-cdfcaf7a946c",
   "metadata": {},
   "source": [
    "Let's update the model to use Google Search as a grounding source"
   ]
  },
  {
   "cell_type": "code",
   "execution_count": 20,
   "id": "b4acde38-0a55-4be1-867a-051a7557ab3d",
   "metadata": {},
   "outputs": [],
   "source": [
    "model = GenerativeModel(\n",
    "    \"gemini-1.5-pro-001\",\n",
    "    generation_config=GenerationConfig(temperature=0),\n",
    "    tools=[search_tool],\n",
    ")\n",
    "chat = model.start_chat()"
   ]
  },
  {
   "cell_type": "code",
   "execution_count": 21,
   "id": "b21d1c59-4442-44cf-b0a8-72aa1dd0585e",
   "metadata": {
    "tags": []
   },
   "outputs": [],
   "source": [
    "response = chat.send_message(prompt)"
   ]
  },
  {
   "cell_type": "markdown",
   "id": "ecc13454-2541-4d74-821b-3f1885b18bc5",
   "metadata": {},
   "source": [
    "Print the response using Google Search grounding and verify the information provided"
   ]
  },
  {
   "cell_type": "code",
   "execution_count": 22,
   "id": "2b7baae3-516f-4e47-96e7-52731ae36061",
   "metadata": {
    "tags": []
   },
   "outputs": [
    {
     "name": "stdout",
     "output_type": "stream",
     "text": [
      "The S&S Cycle 509 Chain Drive Cam Kit (part numbers 330-0016, 141349) is designed for 1999-2006 Harley Davidson Big Twin Cam 88 engines with stock compression ratios. This kit provides increased torque in the low and mid-range RPM (1,000-4,500 RPM), with a lift of .509 inches. The kit includes two chain drive cams, bearings, o-rings, retaining ring, bolt, cam cover gasket, Loctite, and instructions. This product cannot be shipped to California. \n",
      "\n"
     ]
    }
   ],
   "source": [
    "print(response.text)"
   ]
  },
  {
   "cell_type": "code",
   "execution_count": null,
   "id": "c2558b48-a5db-49cd-a6fb-9d860e94f84d",
   "metadata": {},
   "outputs": [],
   "source": []
  }
 ],
 "metadata": {
  "environment": {
   "kernel": "python3",
   "name": "common-cpu.m113",
   "type": "gcloud",
   "uri": "gcr.io/deeplearning-platform-release/base-cpu:m113"
  },
  "kernelspec": {
   "display_name": "Python 3",
   "language": "python",
   "name": "python3"
  },
  "language_info": {
   "codemirror_mode": {
    "name": "ipython",
    "version": 3
   },
   "file_extension": ".py",
   "mimetype": "text/x-python",
   "name": "python",
   "nbconvert_exporter": "python",
   "pygments_lexer": "ipython3",
   "version": "3.10.13"
  }
 },
 "nbformat": 4,
 "nbformat_minor": 5
}
